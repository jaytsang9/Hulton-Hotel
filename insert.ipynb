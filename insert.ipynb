{
 "cells": [
  {
   "cell_type": "code",
   "execution_count": 1,
   "id": "9be637a6",
   "metadata": {},
   "outputs": [],
   "source": [
    "import sqlite3\n",
    "import pandas as pd"
   ]
  },
  {
   "cell_type": "code",
   "execution_count": 23,
   "id": "d4ec5e74",
   "metadata": {},
   "outputs": [],
   "source": [
    "conn = sqlite3.connect('/Users/jay/Desktop/Hulton-Hotel/Hulton.db')\n",
    "cursor = conn.cursor()\n",
    "\n",
    "df = pd.read_csv('/Users/jay/Desktop/Hulton-Hotel/data/Credit_Cards.csv')\n",
    "\n",
    "df.to_sql('Credit_Cards', conn, if_exists='append', index=False)\n",
    "\n",
    "conn.commit()\n",
    "cursor.close()"
   ]
  },
  {
   "cell_type": "code",
   "execution_count": 24,
   "id": "5d0d069f",
   "metadata": {},
   "outputs": [],
   "source": [
    "conn = sqlite3.connect('/Users/jay/Desktop/Hulton-Hotel/Hulton.db')\n",
    "cursor = conn.cursor()\n",
    "\n",
    "df = pd.read_csv('/Users/jay/Desktop/Hulton-Hotel/data/Customers.csv')\n",
    "\n",
    "df.to_sql('Customers', conn, if_exists='append', index=False)\n",
    "\n",
    "conn.commit()\n",
    "cursor.close()"
   ]
  },
  {
   "cell_type": "code",
   "execution_count": 2,
   "id": "9cfb12af",
   "metadata": {},
   "outputs": [],
   "source": [
    "conn = sqlite3.connect('/Users/jay/Desktop/Hulton-Hotel/Hulton.db')\n",
    "cursor = conn.cursor()\n",
    "\n",
    "df = pd.read_csv('/Users/jay/Desktop/Hulton-Hotel/data/Rooms.csv')\n",
    "\n",
    "df.to_sql('Rooms', conn, if_exists='append', index=False)\n",
    "\n",
    "conn.commit()\n",
    "cursor.close()"
   ]
  },
  {
   "cell_type": "code",
   "execution_count": 4,
   "id": "cc0be1ff",
   "metadata": {},
   "outputs": [],
   "source": [
    "conn = sqlite3.connect('/Users/jay/Desktop/Hulton-Hotel/Hulton.db')\n",
    "cursor = conn.cursor()\n",
    "\n",
    "df = pd.read_csv('/Users/jay/Desktop/Hulton-Hotel/data/Discounted_Rooms.csv')\n",
    "\n",
    "df.to_sql('Discounted_Rooms', conn, if_exists='append', index=False)\n",
    "\n",
    "conn.commit()\n",
    "cursor.close()"
   ]
  },
  {
   "cell_type": "code",
   "execution_count": 5,
   "id": "b08442e4",
   "metadata": {},
   "outputs": [],
   "source": [
    "conn = sqlite3.connect('/Users/jay/Desktop/Hulton-Hotel/Hulton.db')\n",
    "cursor = conn.cursor()\n",
    "\n",
    "df = pd.read_csv('/Users/jay/Desktop/Hulton-Hotel/data/Reservations.csv')\n",
    "\n",
    "df.to_sql('Reservations', conn, if_exists='append', index=False)\n",
    "\n",
    "conn.commit()\n",
    "cursor.close()"
   ]
  },
  {
   "cell_type": "code",
   "execution_count": 6,
   "id": "cb7efd26",
   "metadata": {},
   "outputs": [],
   "source": [
    "conn = sqlite3.connect('/Users/jay/Desktop/Hulton-Hotel/Hulton.db')\n",
    "cursor = conn.cursor()\n",
    "\n",
    "df = pd.read_csv('/Users/jay/Desktop/Hulton-Hotel/data/Services.csv')\n",
    "\n",
    "df.to_sql('Services', conn, if_exists='append', index=False)\n",
    "\n",
    "conn.commit()\n",
    "cursor.close()"
   ]
  },
  {
   "cell_type": "code",
   "execution_count": null,
   "id": "34a2b5f5",
   "metadata": {},
   "outputs": [],
   "source": [
    "# hotels 1-26\n",
    "# "
   ]
  }
 ],
 "metadata": {
  "kernelspec": {
   "display_name": "Python 3 (ipykernel)",
   "language": "python",
   "name": "python3"
  },
  "language_info": {
   "codemirror_mode": {
    "name": "ipython",
    "version": 3
   },
   "file_extension": ".py",
   "mimetype": "text/x-python",
   "name": "python",
   "nbconvert_exporter": "python",
   "pygments_lexer": "ipython3",
   "version": "3.8.13"
  }
 },
 "nbformat": 4,
 "nbformat_minor": 5
}
