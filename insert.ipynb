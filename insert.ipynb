{
 "cells": [
  {
   "cell_type": "code",
   "execution_count": 22,
   "id": "9be637a6",
   "metadata": {},
   "outputs": [],
   "source": [
    "import sqlite3\n",
    "import pandas as pd"
   ]
  },
  {
   "cell_type": "code",
   "execution_count": 23,
   "id": "d4ec5e74",
   "metadata": {},
   "outputs": [],
   "source": [
    "conn = sqlite3.connect('/Users/jay/Desktop/Hulton-Hotel/Hulton.db')\n",
    "cursor = conn.cursor()\n",
    "\n",
    "df = pd.read_csv('/Users/jay/Desktop/Hulton-Hotel/data/Credit_Cards.csv')\n",
    "\n",
    "df.to_sql('Credit_Cards', conn, if_exists='append', index=False)\n",
    "\n",
    "conn.commit()\n",
    "cursor.close()"
   ]
  },
  {
   "cell_type": "code",
   "execution_count": 24,
   "id": "5d0d069f",
   "metadata": {},
   "outputs": [],
   "source": [
    "conn = sqlite3.connect('/Users/jay/Desktop/Hulton-Hotel/Hulton.db')\n",
    "cursor = conn.cursor()\n",
    "\n",
    "df = pd.read_csv('/Users/jay/Desktop/Hulton-Hotel/data/Customers.csv')\n",
    "\n",
    "df.to_sql('Customers', conn, if_exists='append', index=False)\n",
    "\n",
    "conn.commit()\n",
    "cursor.close()"
   ]
  },
  {
   "cell_type": "code",
   "execution_count": null,
   "id": "9cfb12af",
   "metadata": {},
   "outputs": [],
   "source": []
  }
 ],
 "metadata": {
  "kernelspec": {
   "display_name": "Python 3 (ipykernel)",
   "language": "python",
   "name": "python3"
  },
  "language_info": {
   "codemirror_mode": {
    "name": "ipython",
    "version": 3
   },
   "file_extension": ".py",
   "mimetype": "text/x-python",
   "name": "python",
   "nbconvert_exporter": "python",
   "pygments_lexer": "ipython3",
   "version": "3.8.13"
  }
 },
 "nbformat": 4,
 "nbformat_minor": 5
}
